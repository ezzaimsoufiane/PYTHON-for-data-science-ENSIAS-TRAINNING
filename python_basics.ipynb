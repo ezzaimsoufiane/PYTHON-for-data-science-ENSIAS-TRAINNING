{
 "cells": [
  {
   "cell_type": "markdown",
   "metadata": {},
   "source": [
    "# Python Basics\n",
    "## ENSIAS Survival Kit\n",
    "___Author : EZZAIM SOUFIANE___"
   ]
  },
  {
   "cell_type": "markdown",
   "metadata": {},
   "source": [
    "__Tricks and hacks for using jupyter notebook__\n",
    "\n",
    "Jupyter notebooks run on an underlying iPython kernel.\n",
    "\n",
    "* __Jupyter notebook shortcuts__<br>\n",
    "Shortcuts always come in handy. <br>\n",
    "1.Switch to Command mode - Esc <br>\n",
    "2.Switch to Edit mdoe - Enter <br>\n",
    "3.Run a cell - Shift+Enter <br>\n",
    "4.Create new cells above - Press A in Command Mode <br>\n",
    "5.Create new cells below - Press B in Command Mode <br>\n",
    "6.Delete a cell - Press D in Command Mode <br>\n",
    "7.Code completion - Tab <br>\n",
    "8.Extending documentation by displaying docstrings - Shift+tab <br>\n"
   ]
  },
  {
   "cell_type": "markdown",
   "metadata": {},
   "source": [
    "## Let's Get Started!!!"
   ]
  },
  {
   "cell_type": "markdown",
   "metadata": {},
   "source": [
    "__Doctor's Advice: Its good practise to place your imports, if any, in the first cell of the notebook__"
   ]
  },
  {
   "cell_type": "code",
   "execution_count": 69,
   "metadata": {},
   "outputs": [
    {
     "name": "stdout",
     "output_type": "stream",
     "text": [
      "2.7.15 |Anaconda, Inc.| (default, Nov 13 2018, 17:33:26) [MSC v.1500 64 bit (AMD64)]\n"
     ]
    }
   ],
   "source": [
    "# import <package name>\n",
    "import sys\n",
    "import math\n",
    "import copy      # To create a deep copy of lists\n",
    "from collections import deque  # deque for creating queues\n",
    "import heapq                # for creating heapq\n",
    "\n",
    "print sys.version"
   ]
  },
  {
   "cell_type": "markdown",
   "metadata": {},
   "source": [
    "## Datatypes, Variables, Expressions"
   ]
  },
  {
   "cell_type": "markdown",
   "metadata": {},
   "source": [
    "Identifiers - Names of variables, functions, classes, objects, etc. <br>\n",
    "Names can begin with alphabets or _ and can contain number, but no special characters are allowed"
   ]
  },
  {
   "cell_type": "markdown",
   "metadata": {},
   "source": [
    "__Doctor's Advice: Follow the PEP8 Python style guide for Code. It makes your code more \"Pythonic\" and improves code readability__"
   ]
  },
  {
   "cell_type": "code",
   "execution_count": 11,
   "metadata": {},
   "outputs": [],
   "source": [
    "my_var = 10\n",
    "_9_var = 9\n",
    "# 10_name is not a valid variable name\n",
    "# dollar_$ is not a valid variable name"
   ]
  },
  {
   "cell_type": "markdown",
   "metadata": {},
   "source": [
    "Basic Built-in datatypes in Python - __int, float, bool__"
   ]
  },
  {
   "cell_type": "code",
   "execution_count": 22,
   "metadata": {},
   "outputs": [
    {
     "name": "stdout",
     "output_type": "stream",
     "text": [
      "hello world\n"
     ]
    }
   ],
   "source": [
    "my_string = \"hello world\"\n",
    "print my_string"
   ]
  },
  {
   "cell_type": "code",
   "execution_count": 27,
   "metadata": {},
   "outputs": [
    {
     "name": "stdout",
     "output_type": "stream",
     "text": [
      "10 is of type <type 'int'>\n"
     ]
    }
   ],
   "source": [
    "var_1 = 10\n",
    "type(var_1)\n",
    "var_2 = 100.5\n",
    "type(var_2)\n",
    "#print type(var_1), type(var_2), var_1, var_2\n",
    "print \"{0} is of type {1}\".format(var_1, type(var_1)) # Print statement with string formatting - here 0, 1 is optional"
   ]
  },
  {
   "cell_type": "code",
   "execution_count": 48,
   "metadata": {},
   "outputs": [
    {
     "name": "stdout",
     "output_type": "stream",
     "text": [
      "Decimal number value 2.16,  100.6\n"
     ]
    }
   ],
   "source": [
    "person_1 = \"person_1\"\n",
    "person_2 = \"person_2\"\n",
    "person_3 = \"person_3\"\n",
    "#print \"My friends {2} {1} {0}\".format(person_1, person_2, person_3)\n",
    "\n",
    "decimal_num = 100.5938\n",
    "decimal_num_1 = 2.1562\n",
    "print \"Decimal number value {1:.2f},  {0:.1f}\".format(decimal_num, decimal_num_1) # Changing the .format args position"
   ]
  },
  {
   "cell_type": "markdown",
   "metadata": {},
   "source": [
    "__Evaluating Expressions using Arithmetic operators__ <br>\n",
    "Create to variables \"first\" and \"second\" with values 5 and 10 <br>\n",
    "* Add the two variables and assign them to another variable \"result\"\n",
    "* Subtract 2 from the result\n",
    "* Perform an true division by 2\n",
    "* Perform a floor division by 2\n",
    "* Get the remainder\n"
   ]
  },
  {
   "cell_type": "code",
   "execution_count": 54,
   "metadata": {},
   "outputs": [
    {
     "name": "stdout",
     "output_type": "stream",
     "text": [
      "Results are 15 -5 50 0 5\n"
     ]
    }
   ],
   "source": [
    "var_1 = 5\n",
    "var_2 = 10\n",
    "result_sum = var_1 + var_2\n",
    "result_sub = var_1 - var_2\n",
    "result_mul = var_1 * var_2\n",
    "result_true_div = var_1 / var_2\n",
    "result_remainder = var_1 % var_2\n",
    "\n",
    "print \"Results are {} {} {} {} {}\".format(result_sum, result_sub, result_mul, result_true_div, result_remainder)"
   ]
  },
  {
   "cell_type": "markdown",
   "metadata": {},
   "source": [
    "__Tips for Python 3.X Users__ <br>\n",
    "Check out \"f strings\" in python 3.6 and above"
   ]
  },
  {
   "cell_type": "markdown",
   "metadata": {},
   "source": [
    "Use a Python built-in function to obtain the quotient and remainder"
   ]
  },
  {
   "cell_type": "code",
   "execution_count": 55,
   "metadata": {},
   "outputs": [
    {
     "data": {
      "text/plain": [
       "(0, 5)"
      ]
     },
     "execution_count": 55,
     "metadata": {},
     "output_type": "execute_result"
    }
   ],
   "source": [
    "divmod(var_1, var_2)"
   ]
  },
  {
   "cell_type": "markdown",
   "metadata": {},
   "source": [
    "__Evaluating Expressions using Relational operators__ <br>\n",
    "Harry, Ron, Hermoine obtained 98.5, 90.4, 99.2 in the exam. <br>\n",
    "* Compare the marks\n",
    "* Are Harry and Ron's marks equal?"
   ]
  },
  {
   "cell_type": "code",
   "execution_count": 1,
   "metadata": {},
   "outputs": [
    {
     "name": "stdout",
     "output_type": "stream",
     "text": [
      "Example of comparison False\n",
      "Is equal harry and ron False\n"
     ]
    }
   ],
   "source": [
    "# Relational operators =====>  <, >, >=, <=, !=, ==\n",
    "harry = 98.5\n",
    "ron = 90.4\n",
    "hermoine = 99.2\n",
    "\n",
    "print \"Example of comparison {}\".format(harry > hermoine > ron)  # Expressions can be evaluated in .format()\n",
    "print \"Is equal harry and ron {}\".format(harry == ron)"
   ]
  },
  {
   "cell_type": "markdown",
   "metadata": {},
   "source": [
    "__Combining expressions using Logical operators__ <br>\n",
    "The no. of sharks in summer in a particular sea is 100, the no. is 50 in autumn and finally is reduced to 20 in winter. <br>\n",
    "* Check if the no. is greater than 15 in all seasons.\n",
    "* Check if the no. is less than 30 atleast in one season."
   ]
  },
  {
   "cell_type": "code",
   "execution_count": 64,
   "metadata": {},
   "outputs": [
    {
     "data": {
      "text/plain": [
       "True"
      ]
     },
     "execution_count": 64,
     "metadata": {},
     "output_type": "execute_result"
    }
   ],
   "source": [
    "# Logical operators ===>  and or not\n",
    "summer = 100\n",
    "autumn = 50\n",
    "winter = 20\n",
    "\n",
    "(summer > 15) and (autumn > 15) and (winter > 15)\n",
    "(summer >= 30) or (autumn >= 30) or (winter >= 30)"
   ]
  },
  {
   "cell_type": "markdown",
   "metadata": {},
   "source": [
    "## Importing math Module\n",
    "The math module allows you to perform mathematical operations <br>\n",
    "* Find the exponent and log of 2\n",
    "* Find the cosine of 180\n",
    "* Find the factorial of a number\n",
    "* Convert 1.5 radians to degrees\n",
    "* Find the absolute value of -20\n",
    "* Find the value of 5 raised to power 3"
   ]
  },
  {
   "cell_type": "code",
   "execution_count": 94,
   "metadata": {},
   "outputs": [
    {
     "name": "stdout",
     "output_type": "stream",
     "text": [
      "Exponent 7.38905609893 Log value 0.69314718056\n",
      "Factorial 2\n",
      "Radians to Degrees\n"
     ]
    }
   ],
   "source": [
    "'''\n",
    "This\n",
    "is \n",
    "a \n",
    "multi-line\n",
    "comment\n",
    "'''\n",
    "\n",
    "exponent = math.exp(2)\n",
    "log = math.log(2)\n",
    "factorial = math.factorial(2)\n",
    "rad2deg = math.degrees(1.5)\n",
    "\n",
    "print \"Exponent {}\".format(exponent),  # Put a comma for print statement outputs to be on same line        \n",
    "print \"Log value {}\".format(log)\n",
    "print \"Factorial {}\".format(factorial)\n",
    "print \"Radians to Degrees\".format(rad2deg)"
   ]
  },
  {
   "cell_type": "code",
   "execution_count": 76,
   "metadata": {},
   "outputs": [
    {
     "name": "stdout",
     "output_type": "stream",
     "text": [
      "Absolute value 20\n"
     ]
    }
   ],
   "source": [
    "absolute_val = abs(-20)\n",
    "print \"Absolute value {}\".format(absolute_val)"
   ]
  },
  {
   "cell_type": "code",
   "execution_count": 74,
   "metadata": {},
   "outputs": [
    {
     "name": "stdout",
     "output_type": "stream",
     "text": [
      "Power 125\n"
     ]
    }
   ],
   "source": [
    "power = 5 ** 3\n",
    "print \"Power {}\".format(power)"
   ]
  },
  {
   "cell_type": "code",
   "execution_count": 80,
   "metadata": {},
   "outputs": [
    {
     "name": "stdout",
     "output_type": "stream",
     "text": [
      "Square root 5.0\n"
     ]
    }
   ],
   "source": [
    "sqrt = 25 ** (1.0/2)\n",
    "print \"Square root {}\".format(sqrt)"
   ]
  },
  {
   "cell_type": "markdown",
   "metadata": {},
   "source": [
    "## Conditional Statements"
   ]
  },
  {
   "cell_type": "markdown",
   "metadata": {},
   "source": [
    "__Python has the if conditional statement.__ <br>\n",
    "The if conditional occurs in 3 variants.\n",
    "* if statement <br>\n",
    "The bank balance of 3 customers is 10000 USD, 5000 USD and 100 USD. <br>\n",
    "Check if the balance of the second customer is greater than 1000 USD and print the balance."
   ]
  },
  {
   "cell_type": "code",
   "execution_count": 4,
   "metadata": {},
   "outputs": [
    {
     "name": "stdout",
     "output_type": "stream",
     "text": [
      "Balance 5000\n"
     ]
    }
   ],
   "source": [
    "cust_1 = 10000\n",
    "cust_2 = 5000\n",
    "cust_3 = 9000\n",
    "\n",
    "if cust_2 > 1000:                          # DONT FORGET THE COLON\n",
    "    print \"Balance {}\".format(cust_2)\n",
    "    "
   ]
  },
  {
   "cell_type": "markdown",
   "metadata": {},
   "source": [
    "* if...else statement <br>\n",
    "Check if the balance of the third customer is greater than 1000 USD, otherwise add a fine of 100 USD \n",
    "and subtract it from the main balance."
   ]
  },
  {
   "cell_type": "code",
   "execution_count": 3,
   "metadata": {},
   "outputs": [
    {
     "name": "stdout",
     "output_type": "stream",
     "text": [
      "Balance in else part 0\n"
     ]
    }
   ],
   "source": [
    "if cust_3 > 1000:\n",
    "    print \"Balance in if part {}\".format(cust_3)\n",
    "else:\n",
    "    cust_3 = cust_3 - 100\n",
    "    print \"Balance in else part {}\".format(cust_3)"
   ]
  },
  {
   "cell_type": "markdown",
   "metadata": {},
   "source": [
    "* if...elif statement\n",
    "Also check if the balance is greater than 8000 USD, if so give the customer a bonus of 100 USD."
   ]
  },
  {
   "cell_type": "code",
   "execution_count": 7,
   "metadata": {},
   "outputs": [
    {
     "name": "stdout",
     "output_type": "stream",
     "text": [
      "Balance in el...if part 9100\n"
     ]
    }
   ],
   "source": [
    "if cust_3 > 1000 and cust_3 < 2000:\n",
    "    print \"Balance in if part {}\".format(cust_3)\n",
    "elif cust_3 > 8000:\n",
    "    cust_3 += 100\n",
    "    print \"Balance in el...if part {}\".format(cust_3)\n",
    "else:\n",
    "    cust_3 = cust_3 - 100\n",
    "    print \"Balance in else part {}\".format(cust_3)"
   ]
  },
  {
   "cell_type": "markdown",
   "metadata": {},
   "source": [
    "## Looping in Python"
   ]
  },
  {
   "cell_type": "markdown",
   "metadata": {},
   "source": [
    "Python uses 2 types of loops <br>\n",
    "* while loop (less commonly used) <br>\n",
    "Print the first 10 natural numbers and their sum"
   ]
  },
  {
   "cell_type": "code",
   "execution_count": 10,
   "metadata": {},
   "outputs": [
    {
     "name": "stdout",
     "output_type": "stream",
     "text": [
      "Iteration 1 output value 1\n",
      "Iteration 2 output value 3\n",
      "Iteration 3 output value 6\n",
      "Iteration 4 output value 10\n",
      "Iteration 5 output value 15\n",
      "Iteration 6 output value 21\n",
      "Iteration 7 output value 28\n",
      "Iteration 8 output value 36\n",
      "Iteration 9 output value 45\n",
      "Iteration 10 output value 55\n",
      "Final Loop output 55\n"
     ]
    }
   ],
   "source": [
    "n = 1\n",
    "output = 0\n",
    "\n",
    "while n < 11:\n",
    "    output += n\n",
    "    print \"Iteration {} output value {}\".format(n, output)\n",
    "    n += 1\n",
    "    \n",
    "print \"Final Loop output {}\".format(output)"
   ]
  },
  {
   "cell_type": "markdown",
   "metadata": {},
   "source": [
    "* For loop\n",
    "Print the first 10 natural numbers and their sum"
   ]
  },
  {
   "cell_type": "code",
   "execution_count": 23,
   "metadata": {},
   "outputs": [
    {
     "name": "stdout",
     "output_type": "stream",
     "text": [
      "Numbers 1\n",
      "Numbers 2\n",
      "Numbers 3\n",
      "Numbers 4\n",
      "Numbers 5\n",
      "Numbers 6\n",
      "Numbers 7\n",
      "Numbers 8\n",
      "Numbers 9\n",
      "Numbers 10\n",
      "Final Loop output 55\n"
     ]
    }
   ],
   "source": [
    "# xrange(1, 11) creates an iter object in python 2.x\n",
    "# range(1, 11) creates a list in python 2.x\n",
    "# For python 3.x just use range(1, 11)\n",
    "\n",
    "output = 0\n",
    "for i in range(1, 11):   # Only ITERABLES in for loop\n",
    "    print \"Numbers {}\".format(i)\n",
    "    output += i\n",
    "    \n",
    "print \"Final Loop output {}\".format(output) "
   ]
  },
  {
   "cell_type": "markdown",
   "metadata": {},
   "source": [
    "Control statements like **break** and **continue** are also used in python. <br>\n",
    "* Exit the loop when the number 5 is reached."
   ]
  },
  {
   "cell_type": "code",
   "execution_count": 22,
   "metadata": {},
   "outputs": [
    {
     "name": "stdout",
     "output_type": "stream",
     "text": [
      "1\n",
      "2\n",
      "3\n",
      "4\n",
      "5\n"
     ]
    }
   ],
   "source": [
    "for i in range(1, 11):\n",
    "    print i\n",
    "    if i == 5:\n",
    "        break"
   ]
  },
  {
   "cell_type": "markdown",
   "metadata": {},
   "source": [
    "Use a while to check if a given number is prime or not"
   ]
  },
  {
   "cell_type": "code",
   "execution_count": 21,
   "metadata": {},
   "outputs": [
    {
     "name": "stdout",
     "output_type": "stream",
     "text": [
      "3 Is Prime\n"
     ]
    }
   ],
   "source": [
    "number = 3\n",
    "factors = 2\n",
    "is_prime = True\n",
    "while factors <= number//2:\n",
    "    if number%factors == 0:\n",
    "        is_prime = False\n",
    "        break\n",
    "    factors += 1\n",
    "    \n",
    "if is_prime:\n",
    "    print \"{} Is Prime\".format(number)\n",
    "else:\n",
    "    print \"{} is Not Prime\".format(number)"
   ]
  },
  {
   "cell_type": "markdown",
   "metadata": {},
   "source": [
    "A more elegant way using  the __else__ statement with the while loop"
   ]
  },
  {
   "cell_type": "code",
   "execution_count": 18,
   "metadata": {},
   "outputs": [
    {
     "name": "stdout",
     "output_type": "stream",
     "text": [
      "8 is Not Prime\n"
     ]
    }
   ],
   "source": [
    "number = 8\n",
    "factors = 2\n",
    "while factors <= number//2:\n",
    "    if number%factors == 0:\n",
    "        print \"{} is Not Prime\".format(number)\n",
    "        break\n",
    "    factors += 1\n",
    "else:\n",
    "    print \"{} Is Prime\".format(number)"
   ]
  },
  {
   "cell_type": "markdown",
   "metadata": {},
   "source": [
    "else statements can also be used with for loops"
   ]
  },
  {
   "cell_type": "code",
   "execution_count": 25,
   "metadata": {},
   "outputs": [
    {
     "name": "stdout",
     "output_type": "stream",
     "text": [
      "97 Is Prime\n"
     ]
    }
   ],
   "source": [
    "number = 97\n",
    "factors = 2\n",
    "for factor in range(2, number//2+1):\n",
    "    if number%factor == 0:\n",
    "        print \"{} is Not Prime\".format(number)\n",
    "        break\n",
    "else:\n",
    "    print \"{} Is Prime\".format(number)"
   ]
  },
  {
   "cell_type": "markdown",
   "metadata": {},
   "source": [
    "## Advanced Data Types in Python"
   ]
  },
  {
   "cell_type": "markdown",
   "metadata": {},
   "source": [
    "* Strings \n",
    "* Lists\n",
    "* Tuples\n",
    "* Dictionary"
   ]
  },
  {
   "cell_type": "markdown",
   "metadata": {},
   "source": [
    "### Strings  <br>\n",
    "Strings are a sequence of characters enclosed in single quotes or double quotes. They are __immutable__. <br>\n",
    "Create a string \" foundation_course \"\n",
    "* Count the number times of char \"o\" occurs in it\n",
    "* Remove the white spaces before and after\n",
    "* Find the characters \"a\", \"b\", \"c\", \"d\" and replace with \"X\"\n",
    "* Split the string based on \"_\"\n",
    "* Convert the string to upper case\n"
   ]
  },
  {
   "cell_type": "code",
   "execution_count": 67,
   "metadata": {},
   "outputs": [
    {
     "name": "stdout",
     "output_type": "stream",
     "text": [
      "o occurs 3 times\n",
      "foundation_course,\n",
      "foundation_course\n",
      "Location of a is 5\n",
      "New string : founXXation_course,\n",
      "['foundation', 'course,']\n",
      "Upper case string : FOUNDATION_COURSE,\n",
      "Original string foundation_course,\n"
     ]
    }
   ],
   "source": [
    "my_str = \"foundation_course,\" # you can also do my_str = 'foundation_course'\n",
    "occurence_o = my_str.count(\"o\")\n",
    "print \"o occurs {} times\".format(occurence_o)\n",
    "\n",
    "white_space = my_str.strip(\",\")\n",
    "print my_str\n",
    "print white_space\n",
    "\n",
    "char_loc = my_str.find(\"a\")\n",
    "print \"Location of a is {}\".format(char_loc)\n",
    "\n",
    "new_string = my_str.replace(\"d\", \"XX\")\n",
    "print \"New string : {}\".format(new_string)\n",
    "\n",
    "split_str = my_str.split(\"_\")\n",
    "print split_str\n",
    "\n",
    "upper_case_str = my_str.upper()\n",
    "print \"Upper case string : {}\".format(upper_case_str)\n",
    "print \"Original string {}\".format(my_str)"
   ]
  },
  {
   "cell_type": "markdown",
   "metadata": {},
   "source": [
    "Extract the digits of the number 4016 and add check if they are even. <br>\n",
    "Hint: Convert the number to a string"
   ]
  },
  {
   "cell_type": "code",
   "execution_count": 66,
   "metadata": {},
   "outputs": [
    {
     "name": "stdout",
     "output_type": "stream",
     "text": [
      "Even digits 4\n",
      "Even digits 0\n",
      "Even digits 6\n"
     ]
    }
   ],
   "source": [
    "num = str(4016)\n",
    "for i in num:\n",
    "    digit = int(i)\n",
    "    # print \"Digits {} and type {}\".format(digit, type(digit))\n",
    "    if digit%2 ==0:\n",
    "        print \"Even digits {}\".format(digit)"
   ]
  },
  {
   "cell_type": "markdown",
   "metadata": {},
   "source": [
    "## Lists <br>\n",
    "The most versatile data-type consisting of comma separated values enclosed in square brackets [] <br>\n",
    "A marks of a class of 4 students are 90, 40, 80, 60 <br>\n",
    "\n",
    "* Reverse the list\n",
    "* Add the marks 95, 75 to the list\n",
    "* Insert the marks 100 in the 3rd position\n",
    "* Remove the marks 40\n",
    "* Remove the last element of the list\n",
    "* Sort the elements of the list"
   ]
  },
  {
   "cell_type": "code",
   "execution_count": 84,
   "metadata": {},
   "outputs": [
    {
     "name": "stdout",
     "output_type": "stream",
     "text": [
      "[60, 80, 40, 90]\n",
      "[60, 80, 40, 90, 95]\n",
      "[60, 100, 80, 40, 90, 95]\n",
      "[60, 100, 80, 90, 95]\n",
      "[60, 100, 80, 90]\n"
     ]
    }
   ],
   "source": [
    "mark_list = [90, 40, 80, 60]\n",
    "mark_list.reverse()\n",
    "print mark_list\n",
    "\n",
    "# Adding at the last\n",
    "mark_list.append(95)\n",
    "print mark_list\n",
    "\n",
    "# Insert by position\n",
    "mark_list.insert(1, 100)\n",
    "print mark_list\n",
    "\n",
    "# Removing by value\n",
    "mark_list.remove(40)\n",
    "print mark_list\n",
    "\n",
    "# Popping out last element\n",
    "mark_list.pop()\n",
    "print mark_list"
   ]
  },
  {
   "cell_type": "markdown",
   "metadata": {},
   "source": [
    "* Add the names lucy and jenny to list"
   ]
  },
  {
   "cell_type": "code",
   "execution_count": 85,
   "metadata": {},
   "outputs": [
    {
     "name": "stdout",
     "output_type": "stream",
     "text": [
      "[60, 100, 80, 90, 'jenny']\n",
      "['lucy', 60, 100, 80, 90, 'jenny']\n"
     ]
    }
   ],
   "source": [
    "mark_list.append(\"jenny\")\n",
    "print mark_list\n",
    "mark_list.insert(0, \"lucy\")\n",
    "print mark_list"
   ]
  },
  {
   "cell_type": "markdown",
   "metadata": {},
   "source": [
    "__Doctor's Advice Again:__ <br>\n",
    "* Create a matrix $A = \\begin{bmatrix}2 & 3 \\\\5 & 6 \\\\1 & 1\\end{bmatrix}$ using lists\n",
    "* Append another list of vowels to this list"
   ]
  },
  {
   "cell_type": "code",
   "execution_count": 90,
   "metadata": {},
   "outputs": [
    {
     "name": "stdout",
     "output_type": "stream",
     "text": [
      "[[2, 3], [5, 6], [1, 1], ['a', 'e', 'i', 'o', 'u']]\n"
     ]
    }
   ],
   "source": [
    "matrix = [[2, 3], [5, 6], [1, 1]]\n",
    "vowels = [\"a\", \"e\", \"i\", \"o\", \"u\"]\n",
    "matrix.append(vowels)\n",
    "print matrix"
   ]
  },
  {
   "cell_type": "markdown",
   "metadata": {},
   "source": [
    "## Indexing and Slicing\n",
    "Python provides a very convenient way of indexing elements of strings, lists, tuples and dictionaries. <br>\n",
    "* Create a string \"Hello_world\"\n",
    "* Print the first, third and fifth char of the string\n",
    "* Print the first 6 characters of the string\n",
    "* Print the last 5 characters of the string"
   ]
  },
  {
   "cell_type": "code",
   "execution_count": 95,
   "metadata": {},
   "outputs": [
    {
     "name": "stdout",
     "output_type": "stream",
     "text": [
      "h l o\n",
      "hello_\n",
      "world\n",
      "dlrow_olleh\n",
      "hlowrd\n"
     ]
    }
   ],
   "source": [
    "my_str = \"hello_world\"\n",
    "print my_str[0], my_str[2], my_str[4]\n",
    "print my_str[:6]              # First 6 characters\n",
    "print my_str[-5:]           # Last 5 characters\n",
    "print my_str[::-1]          # reverse a string with step 1\n",
    "print my_str[::2]             # step value 2"
   ]
  },
  {
   "cell_type": "markdown",
   "metadata": {},
   "source": [
    "* Create a list from the string given above\n",
    "* Print the elements from the first position to the second last element"
   ]
  },
  {
   "cell_type": "code",
   "execution_count": 104,
   "metadata": {},
   "outputs": [
    {
     "name": "stdout",
     "output_type": "stream",
     "text": [
      "['h', 'e', 'l', 'l', 'o', '_', 'w', 'o', 'r', 'l', 'd']\n"
     ]
    },
    {
     "data": {
      "text/plain": [
       "[100, 'e', 'l', 'l', 'o', '_', 'w', 'o', 'r', 'l', 'd']"
      ]
     },
     "execution_count": 104,
     "metadata": {},
     "output_type": "execute_result"
    }
   ],
   "source": [
    "str2list = list(my_str)\n",
    "print str2list\n",
    "str2list[0:-1]\n",
    "str2list[0] = 100\n",
    "str2list"
   ]
  },
  {
   "cell_type": "markdown",
   "metadata": {},
   "source": [
    "## Tuples\n",
    "Tuples are __immutable__ lists enclosed in paranthesis () <br>\n",
    "* Create a tuple of the above mentioned 4 marks\n",
    "* Try modifying the first element of the tuple\n",
    "* Create another tuple of marks 55, 65\n",
    "* Add the two tuples and store it in a new tuple\n",
    "* Get the third element from the last in the new tuple\n"
   ]
  },
  {
   "cell_type": "code",
   "execution_count": 95,
   "metadata": {},
   "outputs": [
    {
     "name": "stdout",
     "output_type": "stream",
     "text": [
      "(90, 40, 60, 80, 90)\n",
      "(90, 40, 60, 80, 90, 55, 65) (55, 65) (90, 40, 60, 80, 90)\n",
      "90\n"
     ]
    }
   ],
   "source": [
    "tuple_marks = (90, 40, 60, 80, 90)\n",
    "print tuple_marks\n",
    "# tuple_marks[0] = 100          Assignment does not work and behaviour is similar to strings\n",
    "tuple_2 = (55, 65)\n",
    "new_tuple = tuple_marks + tuple_2\n",
    "print new_tuple, tuple_2, tuple_marks\n",
    "print new_tuple[-3]         # third element from the last"
   ]
  },
  {
   "cell_type": "markdown",
   "metadata": {},
   "source": [
    "## Built-in Functions common to strings, lists, tuples\n",
    "* Create a string \"foundation_course_2018\"\n",
    "* Create a list of nos - 90, 70, 30, 20, 50\n",
    "* Create a tuple of prime nos - 2, 3, 5, 7, 11, 13, 17\n",
    "* Find the len of each\n",
    "* Find the max and min of each\n",
    "* Find the sum of nos in the tuple and list"
   ]
  },
  {
   "cell_type": "code",
   "execution_count": 113,
   "metadata": {},
   "outputs": [
    {
     "name": "stdout",
     "output_type": "stream",
     "text": [
      "22 5 7\n",
      "u 90 7\n",
      "0 20 2\n",
      "260 57\n"
     ]
    }
   ],
   "source": [
    "my_str = \"foundation_course_2018\"\n",
    "num_list = [90, 70, 30, 20, 50]\n",
    "prime_tuple = (2, 3, 4, 7, 11, 13, 17)\n",
    "print len(my_str), len(num_list), len(prime_tuple)\n",
    "print max(my_str), max(num_list), len(prime_tuple)\n",
    "print min(my_str), min(num_list), min(prime_tuple)\n",
    "print sum(num_list), sum(prime_tuple)"
   ]
  },
  {
   "cell_type": "markdown",
   "metadata": {},
   "source": [
    "## Dictionary\n",
    "Dictionaries are key, value pairs separated by a colon and enclosed with curly brackets {} <br>\n",
    "* Create a dictionary of the following weather data<br>\n",
    "Berlin - 25 <br>\n",
    "Helsinki - 15 <br>\n",
    "Madrid - 29 <br>\n",
    "Dubai - 34 <br>\n",
    "* Print the keys and values of the dictionary\n",
    "* Check if the dictionary has the key Paris, if not add the key with value 27\n",
    "* Get the value of key Madrid\n",
    "* Set the default value of key Rome to 30 and Berlin to 20\n",
    "\n",
    "__Note: Dictionaries are indexed by keys and hence, slicing cannot be applied to it __\n"
   ]
  },
  {
   "cell_type": "code",
   "execution_count": 135,
   "metadata": {},
   "outputs": [
    {
     "name": "stdout",
     "output_type": "stream",
     "text": [
      "{'madrid': 29, 'berlin': 25, 'dubai': 34, 'helsinki': 15}\n",
      "Keys are ['madrid', 'berlin', 'dubai', 'helsinki']\n",
      "Values are [29, 25, 34, 15]\n",
      "{'paris': 27, 'madrid': 29, 'berlin': 25, 'dubai': 34, 'helsinki': 15}\n",
      "I want temp of madrid ? 29\n"
     ]
    },
    {
     "data": {
      "text/plain": [
       "{'berlin': 25,\n",
       " 'dubai': 34,\n",
       " 'helsinki': 15,\n",
       " 'madrid': 29,\n",
       " 'paris': 27,\n",
       " 'rome': 30}"
      ]
     },
     "execution_count": 135,
     "metadata": {},
     "output_type": "execute_result"
    }
   ],
   "source": [
    "example = {1: \"a\", 3.1: {1: \"one\"}, \"alphabet\": 3.4, (1, 2, 3): [1, 2, 3]}\n",
    "\n",
    "weather_data = {\"berlin\": 25, \"helsinki\": 15, \"madrid\": 29, \"dubai\": 34}\n",
    "\n",
    "print weather_data\n",
    "print \"Keys are {}\".format(weather_data.keys())      # Getting keys\n",
    "print \"Values are {}\".format(weather_data.values()) # Getting values\n",
    "weather_data.setdefault(\"paris\", 27)       # checking for key & setting default it not\n",
    "print weather_data\n",
    "print \"I want temp of madrid ? {}\".format(weather_data[\"madrid\"])  # Indexing with keys\n",
    "weather_data.setdefault(\"berlin\", 20)\n",
    "weather_data.setdefault(\"rome\", 30)\n",
    "weather_data"
   ]
  },
  {
   "cell_type": "markdown",
   "metadata": {},
   "source": [
    "__Doctor's Advice Again:__ <br>\n",
    "* Modify the above dictionary by replacing the value of Berlin with a list of nos 10, 15, 20\n",
    "* Create a tuple of countries Germany, Spain, Finland\n",
    "* Create a list of nos 3, 2, 5, 6\n",
    "* Append the dictionary and tuple to the list"
   ]
  },
  {
   "cell_type": "code",
   "execution_count": 138,
   "metadata": {},
   "outputs": [
    {
     "name": "stdout",
     "output_type": "stream",
     "text": [
      "{'dubai': 34, 'helsinki': 15, 'paris': 27, 'madrid': 29, 'berlin': [10, 15, 20], 'rome': 30}\n",
      "[3, 2, 5, 6, {'dubai': 34, 'helsinki': 15, 'paris': 27, 'madrid': 29, 'berlin': [10, 15, 20], 'rome': 30}, ('Germany', 'Spain', 'Finland')]\n"
     ]
    }
   ],
   "source": [
    "weather_data[\"berlin\"] = [10, 15, 20]\n",
    "print weather_data\n",
    "\n",
    "countries = (\"Germany\", \"Spain\", \"Finland\")\n",
    "my_list = [3, 2, 5, 6] \n",
    "\n",
    "my_list.append(weather_data)\n",
    "my_list.append(countries)\n",
    "print my_list"
   ]
  },
  {
   "cell_type": "markdown",
   "metadata": {},
   "source": [
    "## Built-in functions in Python\n",
    "Python has several built-in functions which can be used on the fly without importing any modules. <br>\n",
    "__1. Getting help from Python__"
   ]
  },
  {
   "cell_type": "code",
   "execution_count": null,
   "metadata": {
    "scrolled": false
   },
   "outputs": [],
   "source": [
    "help()"
   ]
  },
  {
   "cell_type": "markdown",
   "metadata": {},
   "source": [
    "__2. range()__ <br>\n",
    "range produces an iter object in Python 3 and is similar to xrange in Python 2 <br>\n",
    "* Generate the series - 1, 4, 9, 16, 25, 36, 49, 64, 81, 100 <br>\n",
    "* Generate the multiples of 4"
   ]
  },
  {
   "cell_type": "code",
   "execution_count": 12,
   "metadata": {},
   "outputs": [
    {
     "name": "stdout",
     "output_type": "stream",
     "text": [
      "1 4 9 16 25 36 49 64 81 100\n"
     ]
    }
   ],
   "source": [
    "for i in range(1, 11):\n",
    "    print i*i,                   # To print everything on same line use , in print statement in python 2.X\n",
    "# To print everythin on same line in python 3.X use the default argument sep='' (Use shift+tab to view the arguments)"
   ]
  },
  {
   "cell_type": "markdown",
   "metadata": {},
   "source": [
    "__3. sorted()__ <br>\n",
    "Returns a sorted copy of the original list. __Does not mutate__ the original list. <br>\n",
    "* Create a list of nos - 5, 3, 9, 6, 1, 0\n",
    "* Sort the list in reverse order\n",
    "\n"
   ]
  },
  {
   "cell_type": "code",
   "execution_count": 148,
   "metadata": {},
   "outputs": [
    {
     "name": "stdout",
     "output_type": "stream",
     "text": [
      "[9, 6, 5, 3, 1, 0]\n",
      "[5, 3, 9, 6, 1, 0]\n"
     ]
    }
   ],
   "source": [
    "my_list = [5, 3, 9, 6, 1, 0]\n",
    "# my_list.sort()             # changes in place\n",
    "# print my_list\n",
    "\n",
    "sorted_list = sorted(my_list, reverse=True)     # returns a copy of the original list\n",
    "print sorted_list\n",
    "print my_list"
   ]
  },
  {
   "cell_type": "markdown",
   "metadata": {},
   "source": [
    "__4. reversed()__ <br>\n",
    "Returns a reversed copy of the original list. __Does not mutate__ the original list. Returns an iter object in Python 3\n",
    "* Create a list of vowels and reverse them"
   ]
  },
  {
   "cell_type": "code",
   "execution_count": 154,
   "metadata": {},
   "outputs": [
    {
     "name": "stdout",
     "output_type": "stream",
     "text": [
      "['u', 'o', 'i', 'e', 'a']\n",
      "['a', 'e', 'i', 'o', 'u']\n"
     ]
    }
   ],
   "source": [
    "vowels = [\"a\", \"e\", \"i\", \"o\", \"u\"]\n",
    "# vowels.reverse()\n",
    "# print vowels            # inplace change\n",
    "\n",
    "reversed_list = list(reversed(vowels))     # return a copy of reversed list but as iter object\n",
    "print reversed_list                       # so use type casting to convert to list\n",
    "print vowels"
   ]
  },
  {
   "cell_type": "markdown",
   "metadata": {},
   "source": [
    "__5. set()__ <br>\n",
    "Create a set of items in a list or tuple. Removes duplicates. <br>"
   ]
  },
  {
   "cell_type": "code",
   "execution_count": 160,
   "metadata": {},
   "outputs": [
    {
     "data": {
      "text/plain": [
       "set"
      ]
     },
     "execution_count": 160,
     "metadata": {},
     "output_type": "execute_result"
    }
   ],
   "source": [
    "set_example = {1, 3}\n",
    "type(set_example)"
   ]
  },
  {
   "cell_type": "code",
   "execution_count": 157,
   "metadata": {},
   "outputs": [],
   "source": [
    "num_list = [3, 5, 1, 0, 2, 9, 1, 0]\n",
    "num_set = set(num_list)"
   ]
  },
  {
   "cell_type": "markdown",
   "metadata": {},
   "source": [
    "__6. Type casting in python__"
   ]
  },
  {
   "cell_type": "code",
   "execution_count": 164,
   "metadata": {},
   "outputs": [
    {
     "name": "stdout",
     "output_type": "stream",
     "text": [
      "10.0\n",
      "['1', '0']\n",
      "(1, 2, 3)\n"
     ]
    }
   ],
   "source": [
    "int_var = 10\n",
    "print float(int_var)\n",
    "print list(str(int_var))\n",
    "\n",
    "num_list = [1, 2, 3]\n",
    "print tuple(num_list)\n"
   ]
  },
  {
   "cell_type": "markdown",
   "metadata": {},
   "source": [
    "__Pay Attention !! Iterating through lists__ <br>\n",
    "Python for loops are very different from other programming languages \n",
    "<br>\n",
    "__The wrong way of iterating through elements of a list!!__<br>"
   ]
  },
  {
   "cell_type": "code",
   "execution_count": 173,
   "metadata": {},
   "outputs": [
    {
     "name": "stdout",
     "output_type": "stream",
     "text": [
      "10\n",
      "20\n",
      "30\n",
      "40\n"
     ]
    }
   ],
   "source": [
    "my_list = [10, 20, 30, 40]\n",
    "\n",
    "for i in range(0, len(my_list)):\n",
    "    print my_list[i]"
   ]
  },
  {
   "cell_type": "markdown",
   "metadata": {},
   "source": [
    "__The Right way__"
   ]
  },
  {
   "cell_type": "code",
   "execution_count": 174,
   "metadata": {},
   "outputs": [
    {
     "name": "stdout",
     "output_type": "stream",
     "text": [
      "10\n",
      "20\n",
      "30\n",
      "40\n"
     ]
    }
   ],
   "source": [
    "for i in my_list:\n",
    "    print i"
   ]
  },
  {
   "cell_type": "markdown",
   "metadata": {},
   "source": [
    "__Doctor's Advise Again!!  Exercise__\n",
    "* Create a list of first 20 natural nos.\n",
    "* Filter out the even nos and print them."
   ]
  },
  {
   "cell_type": "code",
   "execution_count": 175,
   "metadata": {},
   "outputs": [
    {
     "name": "stdout",
     "output_type": "stream",
     "text": [
      "Even number 2\n",
      "Even number 4\n",
      "Even number 6\n",
      "Even number 8\n",
      "Even number 10\n",
      "Even number 12\n",
      "Even number 14\n",
      "Even number 16\n",
      "Even number 18\n",
      "Even number 20\n"
     ]
    }
   ],
   "source": [
    "natural_nos = range(1, 21)\n",
    "for i in natural_nos:\n",
    "    if i%2 == 0:\n",
    "        print \"Even number {}\".format(i)"
   ]
  },
  {
   "cell_type": "markdown",
   "metadata": {},
   "source": [
    "* Create a list of birds - pigeon, crow, eagle, swan, duck, chicken, woodpecker\n",
    "* Filter out the birds which start with a vowel."
   ]
  },
  {
   "cell_type": "code",
   "execution_count": 179,
   "metadata": {},
   "outputs": [
    {
     "name": "stdout",
     "output_type": "stream",
     "text": [
      "eagle\n"
     ]
    }
   ],
   "source": [
    "birds = [\"pigeon\", \"crow\", \"eagle\", \"swan\", \"duck\", \"chicken\", \"woodpecker\"]\n",
    "vowels = [\"a\", \"e\", \"i\", \"o\", \"u\"]\n",
    "for b in birds:\n",
    "    if b[0].lower() in vowels or b[0].upper() in vowels:  # Use membership operator to check for existence of vowels in seqence\n",
    "        print b"
   ]
  },
  {
   "cell_type": "markdown",
   "metadata": {},
   "source": [
    "__7. enumerate()__ <br>\n",
    "Returns the count and value of the iterable. <br>\n",
    "* Create a list of multiples of 3\n",
    "* Iterate through the list and add 10 to the nos in the even position."
   ]
  },
  {
   "cell_type": "code",
   "execution_count": 191,
   "metadata": {},
   "outputs": [
    {
     "name": "stdout",
     "output_type": "stream",
     "text": [
      "0 a\n",
      "1 e\n",
      "2 i\n",
      "3 o\n",
      "4 u\n"
     ]
    }
   ],
   "source": [
    "for idx, vowel in enumerate(vowels):\n",
    "    print idx, vowel"
   ]
  },
  {
   "cell_type": "code",
   "execution_count": 194,
   "metadata": {},
   "outputs": [
    {
     "name": "stdout",
     "output_type": "stream",
     "text": [
      "0 10\n",
      "2 16\n",
      "4 22\n",
      "6 28\n",
      "8 34\n"
     ]
    }
   ],
   "source": [
    "for idx, element in enumerate(range(0, 30, 3)):\n",
    "\n",
    "    if idx%2 == 0:\n",
    "        element += 10\n",
    "        print idx, element"
   ]
  },
  {
   "cell_type": "markdown",
   "metadata": {},
   "source": [
    "__8. zip()__<br>\n",
    "Useful when you need to iterate through multiple lists at the same time.\n",
    "* Create two lists [1, 2, 3, 4, 5], [1, 1, 1, 1, 1]\n",
    "* Add the elements of the two lists and store them in a new list"
   ]
  },
  {
   "cell_type": "code",
   "execution_count": 200,
   "metadata": {},
   "outputs": [
    {
     "name": "stdout",
     "output_type": "stream",
     "text": [
      "1 1\n",
      "2 1\n",
      "3 1\n",
      "4 1\n"
     ]
    }
   ],
   "source": [
    "list_1 = [1, 2, 3, 4, 5]\n",
    "list_2 = [1, 1, 1, 1]\n",
    "\n",
    "for element_1, element_2 in zip(list_1, list_2):\n",
    "    print element_1, element_2"
   ]
  },
  {
   "cell_type": "markdown",
   "metadata": {},
   "source": [
    "__9. input()__"
   ]
  },
  {
   "cell_type": "markdown",
   "metadata": {},
   "source": [
    "Write a program that accepts a sequence of whitespace separated characters from the user and capitalizes the first letter in each word"
   ]
  },
  {
   "cell_type": "code",
   "execution_count": 209,
   "metadata": {},
   "outputs": [
    {
     "name": "stdout",
     "output_type": "stream",
     "text": [
      "enter a value:10\n",
      "10\n"
     ]
    }
   ],
   "source": [
    "user_input = input(\"enter a value:\")\n",
    "print user_input"
   ]
  },
  {
   "cell_type": "markdown",
   "metadata": {},
   "source": [
    "Write a program that accepts a sentence and calculate the number of letters and digits.\n",
    "* Input : Python 3.7\n",
    "* Output : LETTERS 6, DIGITS 2"
   ]
  },
  {
   "cell_type": "code",
   "execution_count": 17,
   "metadata": {},
   "outputs": [
    {
     "name": "stdout",
     "output_type": "stream",
     "text": [
      "Enter the sentence: Python 3.7\n",
      "2 6\n"
     ]
    }
   ],
   "source": [
    "input_str = raw_input(\"Enter the sentence: \")\n",
    "n_digits = sum(s.isdigit() for s in input_str)\n",
    "n_letters = sum(s.isalpha() for s in input_str)\n",
    "print n_digits, n_letters"
   ]
  },
  {
   "cell_type": "markdown",
   "metadata": {},
   "source": [
    "__List Comprehension__ <br>\n",
    "One liners for getting a list output from for loops <br>\n",
    "List comprehension is faster than normal for loops \n",
    "* Lets work on the same problem of extracting the digits from a number."
   ]
  },
  {
   "cell_type": "code",
   "execution_count": 213,
   "metadata": {},
   "outputs": [
    {
     "name": "stdout",
     "output_type": "stream",
     "text": [
      "[4, 5, 6, 1]\n"
     ]
    }
   ],
   "source": [
    "number = str(4561)\n",
    "digits = []\n",
    "for i in number:\n",
    "    digits.append(int(i))\n",
    "print digit_list"
   ]
  },
  {
   "cell_type": "code",
   "execution_count": 211,
   "metadata": {},
   "outputs": [
    {
     "name": "stdout",
     "output_type": "stream",
     "text": [
      "[4, 5, 6, 1]\n"
     ]
    }
   ],
   "source": [
    "digit_list = [int(i) for i in number]\n",
    "print digit_list"
   ]
  },
  {
   "cell_type": "markdown",
   "metadata": {},
   "source": [
    "* Extract only even digits from a number"
   ]
  },
  {
   "cell_type": "code",
   "execution_count": 215,
   "metadata": {},
   "outputs": [
    {
     "name": "stdout",
     "output_type": "stream",
     "text": [
      "[4, 6]\n"
     ]
    }
   ],
   "source": [
    "even_digits = [int(i) for i in number if int(i)%2==0]   # list comprehension if\n",
    "print even_digits"
   ]
  },
  {
   "cell_type": "markdown",
   "metadata": {},
   "source": [
    "* Extract the even digits from a number and replace the other digits with 100"
   ]
  },
  {
   "cell_type": "code",
   "execution_count": 216,
   "metadata": {},
   "outputs": [
    {
     "data": {
      "text/plain": [
       "[4, 100, 6, 100]"
      ]
     },
     "execution_count": 216,
     "metadata": {},
     "output_type": "execute_result"
    }
   ],
   "source": [
    "even_digits = [int(i) if int(i)%2==0 else 100 for i in number]  # list comprehension if...else\n",
    "even_digits"
   ]
  },
  {
   "cell_type": "code",
   "execution_count": 217,
   "metadata": {},
   "outputs": [
    {
     "data": {
      "text/plain": [
       "{1: 'one', 2: 'two', 3: 'three', 4: 'four'}"
      ]
     },
     "execution_count": 217,
     "metadata": {},
     "output_type": "execute_result"
    }
   ],
   "source": [
    "numbers = [1, 2, 3, 4]\n",
    "names = [\"one\", \"two\", \"three\", \"four\"]\n",
    "\n",
    "number_dict = {num:name for num, name in zip(numbers, names)}  # Dictionary comprehension\n",
    "number_dict"
   ]
  },
  {
   "cell_type": "markdown",
   "metadata": {},
   "source": [
    "* Create a matrix using lists $A = \\begin{bmatrix}1 & 2 & 3 \\\\4 & 5 & 6 \\end{bmatrix}$\n",
    "* Find its transpose using list comprehension"
   ]
  },
  {
   "cell_type": "code",
   "execution_count": 10,
   "metadata": {},
   "outputs": [
    {
     "data": {
      "text/plain": [
       "[[1, 4], [2, 5], [3, 6]]"
      ]
     },
     "execution_count": 10,
     "metadata": {},
     "output_type": "execute_result"
    }
   ],
   "source": [
    "A = [[1, 2, 3], [4, 5, 6]]\n",
    "\n",
    "A_transpose = [[A[r][c] for r in range(len(A))]for c in range(len(A[0]))]\n",
    "A_transpose"
   ]
  },
  {
   "cell_type": "markdown",
   "metadata": {},
   "source": [
    "## User-defined functions in Python\n",
    "Functions in python are different from other languages - they can have any number of return values\n",
    "* Write a basic function manipulate_numbers() to add, subtract, multiply and divide to numbers passed to it and return the corresponding values"
   ]
  },
  {
   "cell_type": "code",
   "execution_count": 246,
   "metadata": {},
   "outputs": [
    {
     "name": "stdout",
     "output_type": "stream",
     "text": [
      "Inside function\n",
      "[1, 2, 3, 'foundation course']\n",
      "outside func\n",
      "[1, 2, 3]\n"
     ]
    }
   ],
   "source": [
    "def list_func(list_arr):\n",
    "    num_copy = copy.deepcopy(list_arr)\n",
    "    num_copy.append(\"foundation course\")\n",
    "    print \"Inside function\"\n",
    "    print num_copy\n",
    "\n",
    "num = [1, 2, 3]\n",
    "list_func(num)\n",
    "print \"outside func\"\n",
    "print num"
   ]
  },
  {
   "cell_type": "code",
   "execution_count": 243,
   "metadata": {},
   "outputs": [
    {
     "name": "stdout",
     "output_type": "stream",
     "text": [
      "inside func\n",
      "100\n",
      "outside func\n",
      "0\n"
     ]
    }
   ],
   "source": [
    "x = 0\n",
    "def manipulate_numbers(x, y):\n",
    "    add = x + y\n",
    "    sub = x - y\n",
    "    mul = x * y\n",
    "    divide = x/y\n",
    "    x = 100\n",
    "    print \"inside func\"\n",
    "    print x\n",
    "    return add, sub, mul, divide\n",
    "\n",
    "return_value = manipulate_numbers(10, 29)\n",
    "print \"outside func\"\n",
    "print x"
   ]
  },
  {
   "cell_type": "markdown",
   "metadata": {},
   "source": [
    "Arguments can take on default values if not passed in function call.\n"
   ]
  },
  {
   "cell_type": "code",
   "execution_count": 256,
   "metadata": {},
   "outputs": [
    {
     "data": {
      "text/plain": [
       "'hello5'"
      ]
     },
     "execution_count": 256,
     "metadata": {},
     "output_type": "execute_result"
    }
   ],
   "source": [
    "def multiply_by_a_no(x, num=2):\n",
    "    ans = x+num\n",
    "    return ans\n",
    "\n",
    "multiply_by_a_no(10, 5)"
   ]
  },
  {
   "cell_type": "markdown",
   "metadata": {},
   "source": [
    "* Write a function that takes two lists as it arguments\n",
    "* The function should reverse the first the list\n",
    "* Then return the sum of elements of lists multiplied together"
   ]
  },
  {
   "cell_type": "code",
   "execution_count": 258,
   "metadata": {},
   "outputs": [
    {
     "name": "stdout",
     "output_type": "stream",
     "text": [
      "14\n",
      "[4, 2, 1]\n"
     ]
    }
   ],
   "source": [
    "def manipulate_list(list_1, list_2):\n",
    "    list_1.reverse()\n",
    "    return sum(list_1)*sum(list_2)\n",
    "\n",
    "orig_list = [1, 2, 4]\n",
    "print manipulate_list(orig_list, [1, 1])\n",
    "print orig_list"
   ]
  },
  {
   "cell_type": "markdown",
   "metadata": {},
   "source": [
    "__Doctors Advice Again__ <br>\n",
    "* Write a function to extract the second element of a tuple\n",
    "* Create a list of tuples - (4,3), (6,2), (7,5), (0, 1)\n",
    "* Sort the list based on the second element of the tuple\n",
    "Hint: Pass the function to key argument in sorted()"
   ]
  },
  {
   "cell_type": "code",
   "execution_count": 20,
   "metadata": {},
   "outputs": [
    {
     "name": "stdout",
     "output_type": "stream",
     "text": [
      "[(0, 1), (6, 2), (4, 3), (7, 5)]\n"
     ]
    }
   ],
   "source": [
    "def second_element(my_tuple):\n",
    "    return my_tuple[1]\n",
    "\n",
    "my_tuple = ((4, 3), (6, 2), (7, 5), (0, 1))\n",
    "sorted_tuple = sorted(my_tuple, key=second_element)\n",
    "print sorted_tuple"
   ]
  },
  {
   "cell_type": "markdown",
   "metadata": {},
   "source": [
    "Write a Recursive function to find the factorial of a number"
   ]
  },
  {
   "cell_type": "code",
   "execution_count": 260,
   "metadata": {},
   "outputs": [
    {
     "data": {
      "text/plain": [
       "24"
      ]
     },
     "execution_count": 260,
     "metadata": {},
     "output_type": "execute_result"
    }
   ],
   "source": [
    "def factorial(n):\n",
    "    if n == 1:\n",
    "        return 1\n",
    "    else:\n",
    "        return n*factorial(n-1)\n",
    "factorial(4)"
   ]
  },
  {
   "cell_type": "markdown",
   "metadata": {},
   "source": [
    "## Other Built-in functions Python\n",
    "* __Lambdas__ <br>\n",
    "__Syntax: var = lambda arg: expression(arg)__ <br>\n",
    "Create a function that returns the value of the no. passed to it multiplied by 100"
   ]
  },
  {
   "cell_type": "code",
   "execution_count": 281,
   "metadata": {},
   "outputs": [
    {
     "data": {
      "text/plain": [
       "4000"
      ]
     },
     "execution_count": 281,
     "metadata": {},
     "output_type": "execute_result"
    }
   ],
   "source": [
    "def multiply_by_100(x):\n",
    "    return x*100\n",
    "\n",
    "multiply_by_100(40)"
   ]
  },
  {
   "cell_type": "code",
   "execution_count": 269,
   "metadata": {},
   "outputs": [
    {
     "data": {
      "text/plain": [
       "8000"
      ]
     },
     "execution_count": 269,
     "metadata": {},
     "output_type": "execute_result"
    }
   ],
   "source": [
    "lambda_func = lambda x, y:x*100*y if (x > 10) else 0\n",
    "lambda_func(40, 2)"
   ]
  },
  {
   "cell_type": "code",
   "execution_count": 271,
   "metadata": {},
   "outputs": [
    {
     "data": {
      "text/plain": [
       "4000"
      ]
     },
     "execution_count": 271,
     "metadata": {},
     "output_type": "execute_result"
    }
   ],
   "source": [
    "lambda_func = lambda x:x*100\n",
    "lambda_func(40)"
   ]
  },
  {
   "cell_type": "markdown",
   "metadata": {},
   "source": [
    "* __Map__ <br>\n",
    "It is used for mapping a list to a function. <br>\n",
    "__Syntax: map(func_to_map, list_to_be_passed)__ <br>\n",
    "Note: Map returns an iter object in python. Type casting to list datatype may be used.\n"
   ]
  },
  {
   "cell_type": "markdown",
   "metadata": {},
   "source": [
    "Create a list of number from 1 to 10 and multiply each element by 100"
   ]
  },
  {
   "cell_type": "code",
   "execution_count": 280,
   "metadata": {},
   "outputs": [
    {
     "data": {
      "text/plain": [
       "[0, 100, 200, 300, 400, 500, 600, 700, 800, 900, 1000]"
      ]
     },
     "execution_count": 280,
     "metadata": {},
     "output_type": "execute_result"
    }
   ],
   "source": [
    "map(multiply_by_100, range(0, 11))"
   ]
  },
  {
   "cell_type": "code",
   "execution_count": 272,
   "metadata": {},
   "outputs": [
    {
     "data": {
      "text/plain": [
       "[0, 100, 200, 300, 400, 500, 600, 700, 800, 900, 1000]"
      ]
     },
     "execution_count": 272,
     "metadata": {},
     "output_type": "execute_result"
    }
   ],
   "source": [
    "map(lambda_func, range(0, 11))"
   ]
  },
  {
   "cell_type": "markdown",
   "metadata": {},
   "source": [
    "* Create a list of square root of numbers from 1 to 20 using map and lambda"
   ]
  },
  {
   "cell_type": "code",
   "execution_count": 288,
   "metadata": {},
   "outputs": [
    {
     "data": {
      "text/plain": [
       "[2, 3, 4, 5]"
      ]
     },
     "execution_count": 288,
     "metadata": {},
     "output_type": "execute_result"
    }
   ],
   "source": [
    "add = lambda x, y:x+y\n",
    "map(add, [1, 2, 3, 4], [1, 1, 1, 1])"
   ]
  },
  {
   "cell_type": "code",
   "execution_count": 283,
   "metadata": {},
   "outputs": [
    {
     "data": {
      "text/plain": [
       "[1.0,\n",
       " 1.4142135623730951,\n",
       " 1.7320508075688772,\n",
       " 2.0,\n",
       " 2.23606797749979,\n",
       " 2.449489742783178,\n",
       " 2.6457513110645907,\n",
       " 2.8284271247461903,\n",
       " 3.0,\n",
       " 3.1622776601683795,\n",
       " 3.3166247903554,\n",
       " 3.4641016151377544,\n",
       " 3.605551275463989,\n",
       " 3.7416573867739413,\n",
       " 3.872983346207417,\n",
       " 4.0,\n",
       " 4.123105625617661,\n",
       " 4.242640687119285,\n",
       " 4.358898943540674,\n",
       " 4.47213595499958]"
      ]
     },
     "execution_count": 283,
     "metadata": {},
     "output_type": "execute_result"
    }
   ],
   "source": [
    "import math\n",
    "sqrt = lambda x:math.sqrt(x)\n",
    "map(sqrt, range(1, 21))"
   ]
  },
  {
   "cell_type": "markdown",
   "metadata": {},
   "source": [
    "__Note: Also lookup reduce() and filter()__"
   ]
  },
  {
   "cell_type": "markdown",
   "metadata": {},
   "source": [
    "Use timeit to time the execution of a normal for loop, list comprehension, map and lambda"
   ]
  },
  {
   "cell_type": "code",
   "execution_count": 33,
   "metadata": {},
   "outputs": [
    {
     "name": "stdout",
     "output_type": "stream",
     "text": [
      "100000 loops, best of 3: 7.57 µs per loop\n"
     ]
    }
   ],
   "source": [
    "%%timeit\n",
    "for i in xrange(100):\n",
    "    i*i"
   ]
  },
  {
   "cell_type": "code",
   "execution_count": 32,
   "metadata": {},
   "outputs": [
    {
     "name": "stdout",
     "output_type": "stream",
     "text": [
      "100000 loops, best of 3: 13.5 µs per loop\n"
     ]
    }
   ],
   "source": [
    "%%timeit\n",
    "[a*a for a in range(100)]"
   ]
  },
  {
   "cell_type": "code",
   "execution_count": 31,
   "metadata": {},
   "outputs": [
    {
     "name": "stdout",
     "output_type": "stream",
     "text": [
      "10000 loops, best of 3: 27.6 µs per loop\n"
     ]
    }
   ],
   "source": [
    "%%timeit\n",
    "\n",
    "map(lambda a: a*a, range(100))"
   ]
  },
  {
   "cell_type": "markdown",
   "metadata": {},
   "source": [
    "## Classes & Objects in Python"
   ]
  },
  {
   "cell_type": "markdown",
   "metadata": {},
   "source": [
    "* Create a class Employee with variables name, age and nationality.\n",
    "* Create objects to the class - Richard, 35, American; Leonardo, 45, Spanish; Chen, 25, Chinese"
   ]
  },
  {
   "cell_type": "code",
   "execution_count": 27,
   "metadata": {},
   "outputs": [
    {
     "name": "stdout",
     "output_type": "stream",
     "text": [
      "Name : Richard\n",
      "Age : 35\n",
      "10000\n",
      "Name : Leonardo\n",
      "Age : 45\n",
      "Spanish\n"
     ]
    }
   ],
   "source": [
    "class Employee(object):      # PLease NOTE the self parameter in functions and class variables\n",
    "    \n",
    "    company = \"Bosch\"\n",
    "    \n",
    "    def __init__(self, name, age, nationality):\n",
    "        \n",
    "        self.__name = name               # Strict Private variable because of double __\n",
    "        self._age = age                   # Supposed to be used as private variable because of single _\n",
    "        self._nationality = nationality\n",
    "        \n",
    "    def print_values(self):\n",
    "        print \"Name : {}\".format(self.__name)\n",
    "        print \"Age : {}\".format(self._age)\n",
    "        \n",
    "    def calc_salary(self):\n",
    "        \n",
    "        if self._age > 30:\n",
    "            salary = 10000\n",
    "        else:\n",
    "            salary = 30000\n",
    "            \n",
    "        self.print_values()\n",
    "            \n",
    "        return salary\n",
    "        \n",
    "person_1 = Employee(\"Richard\", 35, \"American\")\n",
    "person_2 = Employee(\"Leonardo\", 45, \"Spanish\")\n",
    "person_3 = Employee(\"Chen\", 25, \"Chinese\")\n",
    "\n",
    "salary = person_1.calc_salary()\n",
    "print salary\n",
    "\n",
    "person_2.print_values()\n",
    "\n",
    "# print person_1.__name                 # Will throw an ERROR\n",
    "print person_2._nationality                     "
   ]
  },
  {
   "cell_type": "markdown",
   "metadata": {},
   "source": [
    "* Create a class method which calculates the salary based on age. <br>\n",
    "If age is between 20 and 30, then salary is 5000 USD <br>\n",
    "If age is between 31 and 40, then salary is 10000 USD <br>\n",
    "If age is between 41 and 50, then salary is 15000 USD <br>"
   ]
  },
  {
   "cell_type": "code",
   "execution_count": 35,
   "metadata": {},
   "outputs": [
    {
     "name": "stdout",
     "output_type": "stream",
     "text": [
      "Name : Bob\n",
      "Age : 25\n",
      "Original salary : 30000\n",
      "Hiked Salary : 35000\n"
     ]
    }
   ],
   "source": [
    "class Salary(Employee):                    # Example of Single Inheritance. Multiple inheritance also possible\n",
    "    \n",
    "    def __init__(self, name, age, nationality):\n",
    "        \n",
    "        super(Salary, self).__init__(name, age, nationality)  # Usage of super varies in python 3\n",
    "        # Syntax for python 3: super().__init__(name, age, nationality)                                                                            \n",
    "        \n",
    "    def increment_salary(self, bonus):\n",
    "        \n",
    "        salary = self.calc_salary()\n",
    "        print \"Original salary : {}\".format(salary)\n",
    "        salary += bonus\n",
    "        \n",
    "        return salary\n",
    "        \n",
    "\n",
    "employee = Salary(\"Bob\", 25, \"German\")\n",
    "hiked_salary = employee.increment_salary(5000)\n",
    "print \"Hiked Salary : {}\".format(hiked_salary)"
   ]
  },
  {
   "cell_type": "markdown",
   "metadata": {},
   "source": [
    "Implement a class that is capable of functioning as a stack (LIFO - Last In First Out) <br>\n",
    "The class should have the following functionalities<br>\n",
    "* Adding elements to the stack\n",
    "* Deleting elements from the stack\n",
    "* Computing the length of the stack\n",
    "* Returning the top element of the stack"
   ]
  },
  {
   "cell_type": "code",
   "execution_count": 53,
   "metadata": {},
   "outputs": [
    {
     "name": "stdout",
     "output_type": "stream",
     "text": [
      "[10, 20, 30, 40]\n",
      "40\n",
      "[10, 20, 30]\n"
     ]
    }
   ],
   "source": [
    "class Stack:\n",
    "    \n",
    "    def __init__(self):\n",
    "        \n",
    "        self._stack = []       # Initial stack is an empty list\n",
    "        \n",
    "    def push(self, element):\n",
    "        \n",
    "        self._stack.append(element)      # Adds element to the end of stack list\n",
    "        \n",
    "    def pop(self):\n",
    "        \n",
    "        element = self._stack.pop()    # Removes the last element\n",
    "        \n",
    "        return element\n",
    "    \n",
    "    def print_stack(self):\n",
    "        \n",
    "        print self._stack\n",
    "        \n",
    "stack_obj = Stack()\n",
    "stack_obj.push(10)\n",
    "stack_obj.push(20)\n",
    "stack_obj.push(30)\n",
    "stack_obj.push(40)              # After pushing 4 elements\n",
    "stack_obj.print_stack()\n",
    "popped_element = stack_obj.pop()\n",
    "print(popped_element)\n",
    "stack_obj.print_stack()         # After popping last elemet\n",
    "\n",
    "\n",
    "# Lists can be used to implement queue by using append() for pushing to queue and remove(list[0]) for removing first element"
   ]
  },
  {
   "cell_type": "markdown",
   "metadata": {},
   "source": [
    "Implement a class that is capable of functioning as a Queue (FIFO - First In First Out) \n",
    "The class should have the following functionalities\n",
    "\n",
    "* Engeue\n",
    "* Dequeue\n",
    "* Computing the length of the queue\n",
    "* Returning the first element of the queue"
   ]
  },
  {
   "cell_type": "code",
   "execution_count": 67,
   "metadata": {},
   "outputs": [
    {
     "name": "stdout",
     "output_type": "stream",
     "text": [
      "deque([4, 6, 10])\n",
      "deque([6, 10])\n"
     ]
    }
   ],
   "source": [
    "sample_list = [4]\n",
    "\n",
    "queue = deque(sample_list)      # Use deque from collections module (look at the first cell in the notebook)\n",
    "queue.append(6)\n",
    "queue.append(10)\n",
    "print queue                 # After adding to end of queue\n",
    "\n",
    "popped_element = queue.popleft()      # Popping element from beginning of queue\n",
    "print queue\n",
    "\n",
    "# deque can also used to implement stack using append() for push and pop() for popping."
   ]
  },
  {
   "cell_type": "markdown",
   "metadata": {},
   "source": [
    "Implement a basic heap in python"
   ]
  },
  {
   "cell_type": "code",
   "execution_count": 78,
   "metadata": {},
   "outputs": [
    {
     "name": "stdout",
     "output_type": "stream",
     "text": [
      "Built min heap from list [2, 4, 8, 6, 10, 12]\n",
      "[1, 4, 2, 6, 10, 12, 8]\n"
     ]
    },
    {
     "data": {
      "text/plain": [
       "1"
      ]
     },
     "execution_count": 78,
     "metadata": {},
     "output_type": "execute_result"
    }
   ],
   "source": [
    "my_list = [12, 4, 2, 6, 10, 8]\n",
    "heapq.heapify(my_list)            # See imported heapq module at the top of notebook\n",
    "print \"Built min heap from list {}\".format(my_list)\n",
    "heapq.heappush(my_list, 1)\n",
    "print my_list\n",
    "heapq.heappop(my_list)"
   ]
  },
  {
   "cell_type": "markdown",
   "metadata": {},
   "source": [
    "__Note : Read about other classes in the collections module__"
   ]
  },
  {
   "cell_type": "markdown",
   "metadata": {},
   "source": [
    "## __Whats Next??__"
   ]
  },
  {
   "cell_type": "markdown",
   "metadata": {},
   "source": [
    "### __Generators, Exceptions, Decorators, Metaclasses, OOPs, Design Patterns__"
   ]
  },
  {
   "cell_type": "markdown",
   "metadata": {},
   "source": [
    "### Other sources for learning Python: <br>\n",
    "1.Tutorials Point - https://www.tutorialspoint.com/python/ <br>\n",
    "2.Learn Python the hard way <br>\n",
    "3.Python for Computation science https://www.southampton.ac.uk/~fangohr/training/python/pdfs/Python-for-Computational-Science-and-Engineering.pdf <br>\n",
    "3.Data Structures and Algorithms in Python - \n",
    "Book by Michael H. Goldwasser, Michael T. Goodrich, and Roberto Tamassia (Advanced) <br>\n",
    "4.Effective Python: 59 Specific Ways to Write Better Python - \n",
    "Book by Brett Slatkin (Advanced) <br>\n",
    "5.Learning Python 5th edition (Advanced and Highly recommended)\n"
   ]
  },
  {
   "cell_type": "code",
   "execution_count": null,
   "metadata": {},
   "outputs": [],
   "source": []
  }
 ],
 "metadata": {
  "kernelspec": {
   "display_name": "Python 3",
   "language": "python",
   "name": "python3"
  },
  "language_info": {
   "codemirror_mode": {
    "name": "ipython",
    "version": 3
   },
   "file_extension": ".py",
   "mimetype": "text/x-python",
   "name": "python",
   "nbconvert_exporter": "python",
   "pygments_lexer": "ipython3",
   "version": "3.7.1"
  }
 },
 "nbformat": 4,
 "nbformat_minor": 2
}
